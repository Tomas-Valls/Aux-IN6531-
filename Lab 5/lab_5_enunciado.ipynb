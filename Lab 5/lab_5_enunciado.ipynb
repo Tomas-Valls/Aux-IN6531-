{
 "metadata": {
  "language_info": {
   "codemirror_mode": {
    "name": "ipython",
    "version": 3
   },
   "file_extension": ".py",
   "mimetype": "text/x-python",
   "name": "python",
   "nbconvert_exporter": "python",
   "pygments_lexer": "ipython3",
   "version": "3.8.5-final"
  },
  "orig_nbformat": 2,
  "kernelspec": {
   "name": "python3",
   "display_name": "Python 3"
  }
 },
 "nbformat": 4,
 "nbformat_minor": 2,
 "cells": [
  {
   "source": [
    "<h3> Laboratorio N 5 </h3>\n",
    "\n",
    "Nombre de integrantes del grupo:\n",
    "    \n",
    "    1.\n",
    "\n",
    "    2.\n",
    "\n",
    "    3.\n",
    "\n",
    "    4.\n",
    "     \n",
    "Deben subir el resultado del grupo en un jupyter notebook hasta el día Martes 1 de Diciembre a las 23:00 horas!!\n",
    "\n",
    "El laboratorio consta de 5 preguntas donde la nota del laboratorio corresponde a la suma del puntaje más un punto base.\n",
    "\n",
    "----\n",
    "\n",
    "<h3>Pregunta 1. </h3> (0.5 pts)\n",
    "\n",
    "Haga el de tratamiento de variables así como de pre procesamiento de datos para obtener un dataframe que le permita correr algoritmos de clasificación como los estudiados en el auxiliar 5.\n",
    "\n",
    "Debe formular el dataset como un problema de clasificación binario sobre la columna ´SaleCondition´\n",
    "\n",
    "<h3>Pregunta 2.</h3> (0.5 pts)\n",
    "\n",
    "Explique la diferencia entre las metricas Accuracy, Precision, Recall y ROC_AUC\n",
    "\n",
    "Ademas defina las métricas que utilizará para evaluar el rendimiento del modelo que entrene para predecir la variable ´SaleCondition´, puede definir de manera explicita supuestos que le ayuden a justificar la elección de las métricas seleccionadas.\n",
    "\n",
    "<h3>Pregunta 3.</h3> (1.5 pts)\n",
    "\n",
    "Sin modificar el dataset luego del procesamiento, entrene 5 algoritmos distinos de clasificación que le permitan determinar la variable ´SaleCondition´.\n",
    "Indique si está entrenando un problema balanceado y en que proporción está cada etiqueta.\n",
    "\n",
    "Determine y reporte el algoritmo que logra predecir la etiqueta de mejor manera según los criterios definidos en la pregunta 2. Justifique su elección.\n",
    "\n",
    "<h3>Pregunta 4. </h3> (1 pto)\n",
    "\n",
    "Aplique las técnicas de sobre y sub sampleo para balancear el dataset de manera equitativa, entrene los mismos 5 algoritmos de la pregunta 3 usando el dataset balnceado de manera respectiva.\n",
    "\n",
    "Para cada técnica determine y reporte el algoritmo que logra predecir la etiqueta de mejor manera según los criterios definidos en la pregunta 2. Justifique su elección.\n",
    "\n",
    "<h3>Pregunta 5.</h3>  (1.5 pts)\n",
    "\n",
    "Utilice el método de 'Synthetic Minority Oversampling Technique' para balancear el dataset de manera equitativa y con un 60% de las etiquetas de la clase dominante original.\n",
    "\n",
    "Para cada caso según corresponda, entrene los mismos 5 algoritmos utilizados para la pregunta 3 para cada versión del dataset balanceado con SMOTE.\n",
    "\n",
    "Para cada técnica determine y reporte el algoritmo que logra predecir la etiqueta de mejor manera según los criterios definidos en la pregunta 2. Justifique su elección.\n",
    "\n",
    "Además de todos los modelos y configuraciones probadas en las preguntas 3, 4 y 5 determine que modelo le entrega el mejor rendimiento para predecir la variable objetivo y comente el resultado encontrado.\n",
    "\n",
    "<h3> Pregunta 6. </h3> (1 pto)\n",
    "\n",
    "Aplique la técnica de validación cruzada al mejor modelo que ha entrenado para este problema y determine si su modelo es robusto a la variabilidad de la seleción del conjunto de entrenamiento, para esto utilice las mismas métricas definidas en la pregunta 2.\n",
    "\n",
    "Hint: puede utilizar la función ennumerate() de python y cross_validate() del modulo 'sklearn.model_selection', si tiene dudas pregunte.\n",
    "\n",
    "\n",
    "\n"
   ],
   "cell_type": "markdown",
   "metadata": {}
  },
  {
   "cell_type": "code",
   "execution_count": 1,
   "metadata": {},
   "outputs": [],
   "source": [
    "import pandas as pd\n"
   ]
  },
  {
   "cell_type": "code",
   "execution_count": null,
   "metadata": {},
   "outputs": [],
   "source": [
    "housing = pd.read_csv('/Users/sebaguerraty-macbook/Github/Aux-IN6531-/Aux Modelos predictivos/house-prices-advanced-regression-techniques/train.csv')"
   ]
  }
 ]
}