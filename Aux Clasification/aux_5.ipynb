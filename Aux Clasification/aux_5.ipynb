{
 "metadata": {
  "language_info": {
   "codemirror_mode": {
    "name": "ipython",
    "version": 3
   },
   "file_extension": ".py",
   "mimetype": "text/x-python",
   "name": "python",
   "nbconvert_exporter": "python",
   "pygments_lexer": "ipython3",
   "version": "3.8.5-final"
  },
  "orig_nbformat": 2,
  "kernelspec": {
   "name": "python3",
   "display_name": "Python 3.8.5 64-bit ('academic': conda)",
   "metadata": {
    "interpreter": {
     "hash": "6e3bfc71632b2e8e14e255a35d81850e245cc3519e0bc5afc02be28c06af3a2b"
    }
   }
  }
 },
 "nbformat": 4,
 "nbformat_minor": 2,
 "cells": [
  {
   "cell_type": "code",
   "execution_count": 3,
   "metadata": {},
   "outputs": [],
   "source": [
    "import pandas as pd\n",
    "\n",
    "import numpy as np\n",
    "import matplotlib.pyplot as plt\n",
    "\n",
    "#División datos\n",
    "from sklearn.model_selection import train_test_split\n",
    "#Cross-Validation\n",
    "from sklearn.model_selection import cross_validate\n",
    "\n",
    "#Metricas\n",
    "import sklearn\n",
    "from sklearn.metrics import confusion_matrix, f1_score, classification_report, accuracy_score, recall_score, precision_score, confusion_matrix\n",
    "\n",
    "#ROC y AUC\n",
    "from sklearn.metrics import roc_curve, roc_auc_score\n",
    "\n",
    "\n",
    "#Modelos\n",
    "from sklearn.linear_model import LogisticRegression\n",
    "from sklearn.tree import DecisionTreeClassifier\n",
    "from sklearn.neighbors import KNeighborsClassifier\n",
    "from sklearn.svm import SVC\n",
    "from sklearn.ensemble import RandomForestClassifier\n"
   ]
  },
  {
   "source": [
    "UCI ML Repo: Breast Cancer Wisconsin (Diagnostic) Data Set\n",
    "\n",
    "http://archive.ics.uci.edu/ml/datasets/Breast+Cancer+Wisconsin+%28Diagnostic%29"
   ],
   "cell_type": "markdown",
   "metadata": {}
  },
  {
   "cell_type": "code",
   "execution_count": 4,
   "metadata": {},
   "outputs": [],
   "source": [
    "breast_c = pd.read_csv('/Users/sebaguerraty-macbook/Github/Aux-IN6531-/Aux Clasification/data/breast-cancer-wisconsin.data')"
   ]
  },
  {
   "cell_type": "code",
   "execution_count": 5,
   "metadata": {},
   "outputs": [],
   "source": [
    "breast_c.columns  = ['ID number', 'Clump_thickness', 'Uniformity_cell_size', 'Uniformity_cell_shape', 'Marginal_adhesion', 'Single_e_cell_size', 'Bare_nuclei', 'Bland_chromatin', 'Normal_nucleoli', 'Mitoses', 'Class']"
   ]
  },
  {
   "cell_type": "code",
   "execution_count": 6,
   "metadata": {},
   "outputs": [
    {
     "output_type": "execute_result",
     "data": {
      "text/plain": [
       "   ID number  Clump_thickness  Uniformity_cell_size  Uniformity_cell_shape  \\\n",
       "0    1002945                5                     4                      4   \n",
       "1    1015425                3                     1                      1   \n",
       "2    1016277                6                     8                      8   \n",
       "3    1017023                4                     1                      1   \n",
       "4    1017122                8                    10                     10   \n",
       "\n",
       "   Marginal_adhesion  Single_e_cell_size Bare_nuclei  Bland_chromatin  \\\n",
       "0                  5                   7          10                3   \n",
       "1                  1                   2           2                3   \n",
       "2                  1                   3           4                3   \n",
       "3                  3                   2           1                3   \n",
       "4                  8                   7          10                9   \n",
       "\n",
       "   Normal_nucleoli  Mitoses  Class  \n",
       "0                2        1      2  \n",
       "1                1        1      2  \n",
       "2                7        1      2  \n",
       "3                1        1      2  \n",
       "4                7        1      4  "
      ],
      "text/html": "<div>\n<style scoped>\n    .dataframe tbody tr th:only-of-type {\n        vertical-align: middle;\n    }\n\n    .dataframe tbody tr th {\n        vertical-align: top;\n    }\n\n    .dataframe thead th {\n        text-align: right;\n    }\n</style>\n<table border=\"1\" class=\"dataframe\">\n  <thead>\n    <tr style=\"text-align: right;\">\n      <th></th>\n      <th>ID number</th>\n      <th>Clump_thickness</th>\n      <th>Uniformity_cell_size</th>\n      <th>Uniformity_cell_shape</th>\n      <th>Marginal_adhesion</th>\n      <th>Single_e_cell_size</th>\n      <th>Bare_nuclei</th>\n      <th>Bland_chromatin</th>\n      <th>Normal_nucleoli</th>\n      <th>Mitoses</th>\n      <th>Class</th>\n    </tr>\n  </thead>\n  <tbody>\n    <tr>\n      <th>0</th>\n      <td>1002945</td>\n      <td>5</td>\n      <td>4</td>\n      <td>4</td>\n      <td>5</td>\n      <td>7</td>\n      <td>10</td>\n      <td>3</td>\n      <td>2</td>\n      <td>1</td>\n      <td>2</td>\n    </tr>\n    <tr>\n      <th>1</th>\n      <td>1015425</td>\n      <td>3</td>\n      <td>1</td>\n      <td>1</td>\n      <td>1</td>\n      <td>2</td>\n      <td>2</td>\n      <td>3</td>\n      <td>1</td>\n      <td>1</td>\n      <td>2</td>\n    </tr>\n    <tr>\n      <th>2</th>\n      <td>1016277</td>\n      <td>6</td>\n      <td>8</td>\n      <td>8</td>\n      <td>1</td>\n      <td>3</td>\n      <td>4</td>\n      <td>3</td>\n      <td>7</td>\n      <td>1</td>\n      <td>2</td>\n    </tr>\n    <tr>\n      <th>3</th>\n      <td>1017023</td>\n      <td>4</td>\n      <td>1</td>\n      <td>1</td>\n      <td>3</td>\n      <td>2</td>\n      <td>1</td>\n      <td>3</td>\n      <td>1</td>\n      <td>1</td>\n      <td>2</td>\n    </tr>\n    <tr>\n      <th>4</th>\n      <td>1017122</td>\n      <td>8</td>\n      <td>10</td>\n      <td>10</td>\n      <td>8</td>\n      <td>7</td>\n      <td>10</td>\n      <td>9</td>\n      <td>7</td>\n      <td>1</td>\n      <td>4</td>\n    </tr>\n  </tbody>\n</table>\n</div>"
     },
     "metadata": {},
     "execution_count": 6
    }
   ],
   "source": [
    "breast_c.head()"
   ]
  },
  {
   "cell_type": "code",
   "execution_count": 7,
   "metadata": {},
   "outputs": [],
   "source": [
    "## EDA + transformaciones de variable y Dummies (no applica en este caso)"
   ]
  },
  {
   "cell_type": "code",
   "execution_count": 8,
   "metadata": {},
   "outputs": [
    {
     "output_type": "execute_result",
     "data": {
      "text/plain": [
       "(16, 11)"
      ]
     },
     "metadata": {},
     "execution_count": 8
    }
   ],
   "source": [
    "breast_c[ breast_c['Bare_nuclei'] =='?'].shape"
   ]
  },
  {
   "cell_type": "code",
   "execution_count": 9,
   "metadata": {},
   "outputs": [
    {
     "output_type": "execute_result",
     "data": {
      "text/plain": [
       "ID number                 int64\n",
       "Clump_thickness           int64\n",
       "Uniformity_cell_size      int64\n",
       "Uniformity_cell_shape     int64\n",
       "Marginal_adhesion         int64\n",
       "Single_e_cell_size        int64\n",
       "Bare_nuclei              object\n",
       "Bland_chromatin           int64\n",
       "Normal_nucleoli           int64\n",
       "Mitoses                   int64\n",
       "Class                     int64\n",
       "dtype: object"
      ]
     },
     "metadata": {},
     "execution_count": 9
    }
   ],
   "source": [
    "breast_c.dtypes"
   ]
  },
  {
   "cell_type": "code",
   "execution_count": 10,
   "metadata": {},
   "outputs": [],
   "source": [
    "breast_c['Bare_nuclei'] = pd.to_numeric(breast_c['Bare_nuclei'], errors='coerce')"
   ]
  },
  {
   "cell_type": "code",
   "execution_count": 11,
   "metadata": {},
   "outputs": [],
   "source": [
    "breast_c['Bare_nuclei'].fillna(method='ffill', inplace=True)"
   ]
  },
  {
   "source": [
    "7. Attribute Information: (class attribute has been moved to last column)\n",
    "\n",
    "   #  Attribute                     Domain\n",
    "   -- -----------------------------------------\n",
    "    1. Sample code number            id number\n",
    "    2. Clump Thickness               1 - 10\n",
    "    3. Uniformity of Cell Size       1 - 10\n",
    "    4. Uniformity of Cell Shape      1 - 10\n",
    "    5. Marginal Adhesion             1 - 10\n",
    "    6. Single Epithelial Cell Size   1 - 10\n",
    "    7. Bare Nuclei                   1 - 10\n",
    "    8. Bland Chromatin               1 - 10\n",
    "    9. Normal Nucleoli               1 - 10\n",
    "    10. Mitoses                       1 - 10\n",
    "    11. Class:                        (2 for benign, 4 for malignant)"
   ],
   "cell_type": "markdown",
   "metadata": {}
  },
  {
   "cell_type": "code",
   "execution_count": 12,
   "metadata": {},
   "outputs": [],
   "source": [
    "breast_c['Class'].replace(4, 1, inplace=True)\n",
    "breast_c['Class'].replace(2, 0, inplace=True)"
   ]
  },
  {
   "cell_type": "code",
   "execution_count": 13,
   "metadata": {},
   "outputs": [
    {
     "output_type": "execute_result",
     "data": {
      "text/plain": [
       "   ID number  Clump_thickness  Uniformity_cell_size  Uniformity_cell_shape  \\\n",
       "0    1002945                5                     4                      4   \n",
       "1    1015425                3                     1                      1   \n",
       "2    1016277                6                     8                      8   \n",
       "3    1017023                4                     1                      1   \n",
       "4    1017122                8                    10                     10   \n",
       "\n",
       "   Marginal_adhesion  Single_e_cell_size  Bare_nuclei  Bland_chromatin  \\\n",
       "0                  5                   7         10.0                3   \n",
       "1                  1                   2          2.0                3   \n",
       "2                  1                   3          4.0                3   \n",
       "3                  3                   2          1.0                3   \n",
       "4                  8                   7         10.0                9   \n",
       "\n",
       "   Normal_nucleoli  Mitoses  Class  \n",
       "0                2        1      0  \n",
       "1                1        1      0  \n",
       "2                7        1      0  \n",
       "3                1        1      0  \n",
       "4                7        1      1  "
      ],
      "text/html": "<div>\n<style scoped>\n    .dataframe tbody tr th:only-of-type {\n        vertical-align: middle;\n    }\n\n    .dataframe tbody tr th {\n        vertical-align: top;\n    }\n\n    .dataframe thead th {\n        text-align: right;\n    }\n</style>\n<table border=\"1\" class=\"dataframe\">\n  <thead>\n    <tr style=\"text-align: right;\">\n      <th></th>\n      <th>ID number</th>\n      <th>Clump_thickness</th>\n      <th>Uniformity_cell_size</th>\n      <th>Uniformity_cell_shape</th>\n      <th>Marginal_adhesion</th>\n      <th>Single_e_cell_size</th>\n      <th>Bare_nuclei</th>\n      <th>Bland_chromatin</th>\n      <th>Normal_nucleoli</th>\n      <th>Mitoses</th>\n      <th>Class</th>\n    </tr>\n  </thead>\n  <tbody>\n    <tr>\n      <th>0</th>\n      <td>1002945</td>\n      <td>5</td>\n      <td>4</td>\n      <td>4</td>\n      <td>5</td>\n      <td>7</td>\n      <td>10.0</td>\n      <td>3</td>\n      <td>2</td>\n      <td>1</td>\n      <td>0</td>\n    </tr>\n    <tr>\n      <th>1</th>\n      <td>1015425</td>\n      <td>3</td>\n      <td>1</td>\n      <td>1</td>\n      <td>1</td>\n      <td>2</td>\n      <td>2.0</td>\n      <td>3</td>\n      <td>1</td>\n      <td>1</td>\n      <td>0</td>\n    </tr>\n    <tr>\n      <th>2</th>\n      <td>1016277</td>\n      <td>6</td>\n      <td>8</td>\n      <td>8</td>\n      <td>1</td>\n      <td>3</td>\n      <td>4.0</td>\n      <td>3</td>\n      <td>7</td>\n      <td>1</td>\n      <td>0</td>\n    </tr>\n    <tr>\n      <th>3</th>\n      <td>1017023</td>\n      <td>4</td>\n      <td>1</td>\n      <td>1</td>\n      <td>3</td>\n      <td>2</td>\n      <td>1.0</td>\n      <td>3</td>\n      <td>1</td>\n      <td>1</td>\n      <td>0</td>\n    </tr>\n    <tr>\n      <th>4</th>\n      <td>1017122</td>\n      <td>8</td>\n      <td>10</td>\n      <td>10</td>\n      <td>8</td>\n      <td>7</td>\n      <td>10.0</td>\n      <td>9</td>\n      <td>7</td>\n      <td>1</td>\n      <td>1</td>\n    </tr>\n  </tbody>\n</table>\n</div>"
     },
     "metadata": {},
     "execution_count": 13
    }
   ],
   "source": [
    "breast_c.head()"
   ]
  },
  {
   "cell_type": "code",
   "execution_count": 14,
   "metadata": {},
   "outputs": [],
   "source": [
    "X_train, X_test, y_train, y_test = train_test_split(breast_c.drop(columns=['ID number', 'Class']), breast_c['Class'], test_size=0.2, random_state=123, stratify=breast_c.Class)"
   ]
  },
  {
   "cell_type": "code",
   "execution_count": 15,
   "metadata": {},
   "outputs": [],
   "source": [
    "models = []\n",
    "models.append(('LOGIT  ', LogisticRegression()))\n",
    "models.append(('KNN    ', KNeighborsClassifier()))\n",
    "models.append(('D_TREE ', DecisionTreeClassifier()))\n",
    "models.append(('RandomForest ', RandomForestClassifier()))\n",
    "models.append(('SVM    ', SVC()))"
   ]
  },
  {
   "cell_type": "code",
   "execution_count": 19,
   "metadata": {},
   "outputs": [
    {
     "output_type": "stream",
     "name": "stdout",
     "text": [
      "Modelo: LOGIT  \ntrain accuracy: 0.97, train precision: 0.96, train recall: 0.96\naccuracy: 0.94, precision: 0.93, recall: 0.88\n\nModelo: KNN    \ntrain accuracy: 0.98, train precision: 0.97, train recall: 0.98\naccuracy: 0.94, precision: 0.93, recall: 0.90\n\nModelo: D_TREE \ntrain accuracy: 1.00, train precision: 1.00, train recall: 1.00\naccuracy: 0.91, precision: 0.93, recall: 0.79\n\nModelo: RandomForest \ntrain accuracy: 1.00, train precision: 1.00, train recall: 1.00\naccuracy: 0.94, precision: 0.93, recall: 0.88\n\nModelo: SVM    \ntrain accuracy: 0.98, train precision: 0.96, train recall: 0.97\naccuracy: 0.95, precision: 0.94, recall: 0.92\n\n"
     ]
    }
   ],
   "source": [
    "\n",
    "for name, model in models:\n",
    "    #Ajuste del modelo\n",
    "    model.fit(X_train, y_train)\n",
    "    \n",
    "    \n",
    "    #Predecir\n",
    "    y_pred = model.predict(X_test)\n",
    "    \n",
    "    #Metricas de testeo\n",
    "    accuracy = accuracy_score(y_test, y_pred)\n",
    "    precision = precision_score(y_test, y_pred)\n",
    "    recall  = recall_score(y_test, y_pred)\n",
    "    \n",
    "    #metricas de conjunto de entrenamiento\n",
    "    train_pred = model.predict(X_train)\n",
    "\n",
    "    train_acc = accuracy_score(y_train, train_pred)\n",
    "    train_precision = precision_score(y_train, train_pred)\n",
    "    train_recall = recall_score(y_train, train_pred)\n",
    "    #Print de datos\n",
    "    \n",
    "    print(\"Modelo: {}\".format(name))\n",
    "    print('train accuracy: {:.2f}, train precision: {:.2f}, train recall: {:.2f}'.format(train_acc, train_precision, train_recall))\n",
    "    print(\"accuracy: {:.2f}, precision: {:.2f}, recall: {:.2f}\".format(accuracy, precision, recall))\n",
    "    print(\"\")\n",
    "    "
   ]
  },
  {
   "cell_type": "code",
   "execution_count": 27,
   "metadata": {},
   "outputs": [
    {
     "output_type": "display_data",
     "data": {
      "text/plain": "<Figure size 720x576 with 1 Axes>",
      "image/svg+xml": "<?xml version=\"1.0\" encoding=\"utf-8\" standalone=\"no\"?>\n<!DOCTYPE svg PUBLIC \"-//W3C//DTD SVG 1.1//EN\"\n  \"http://www.w3.org/Graphics/SVG/1.1/DTD/svg11.dtd\">\n<!-- Created with matplotlib (https://matplotlib.org/) -->\n<svg height=\"518.34875pt\" version=\"1.1\" viewBox=\"0 0 618.659375 518.34875\" width=\"618.659375pt\" xmlns=\"http://www.w3.org/2000/svg\" xmlns:xlink=\"http://www.w3.org/1999/xlink\">\n <metadata>\n  <rdf:RDF xmlns:cc=\"http://creativecommons.org/ns#\" xmlns:dc=\"http://purl.org/dc/elements/1.1/\" xmlns:rdf=\"http://www.w3.org/1999/02/22-rdf-syntax-ns#\">\n   <cc:Work>\n    <dc:type rdf:resource=\"http://purl.org/dc/dcmitype/StillImage\"/>\n    <dc:date>2020-11-19T00:30:44.347771</dc:date>\n    <dc:format>image/svg+xml</dc:format>\n    <dc:creator>\n     <cc:Agent>\n      <dc:title>Matplotlib v3.3.1, https://matplotlib.org/</dc:title>\n     </cc:Agent>\n    </dc:creator>\n   </cc:Work>\n  </rdf:RDF>\n </metadata>\n <defs>\n  <style type=\"text/css\">*{stroke-linecap:butt;stroke-linejoin:round;}</style>\n </defs>\n <g id=\"figure_1\">\n  <g id=\"patch_1\">\n   <path d=\"M 0 518.34875 \nL 618.659375 518.34875 \nL 618.659375 0 \nL 0 0 \nz\n\" style=\"fill:none;\"/>\n  </g>\n  <g id=\"axes_1\">\n   <g id=\"patch_2\">\n    <path d=\"M 53.459375 471.114375 \nL 611.459375 471.114375 \nL 611.459375 36.234375 \nL 53.459375 36.234375 \nz\n\" style=\"fill:#ffffff;\"/>\n   </g>\n   <g id=\"matplotlib.axis_1\">\n    <g id=\"xtick_1\">\n     <g id=\"line2d_1\">\n      <defs>\n       <path d=\"M 0 0 \nL 0 3.5 \n\" id=\"m877a8ed90e\" style=\"stroke:#000000;stroke-width:0.8;\"/>\n      </defs>\n      <g>\n       <use style=\"stroke:#000000;stroke-width:0.8;\" x=\"78.823011\" xlink:href=\"#m877a8ed90e\" y=\"471.114375\"/>\n      </g>\n     </g>\n     <g id=\"text_1\">\n      <!-- 0.0 -->\n      <g transform=\"translate(70.871449 485.712812)scale(0.1 -0.1)\">\n       <defs>\n        <path d=\"M 31.78125 66.40625 \nQ 24.171875 66.40625 20.328125 58.90625 \nQ 16.5 51.421875 16.5 36.375 \nQ 16.5 21.390625 20.328125 13.890625 \nQ 24.171875 6.390625 31.78125 6.390625 \nQ 39.453125 6.390625 43.28125 13.890625 \nQ 47.125 21.390625 47.125 36.375 \nQ 47.125 51.421875 43.28125 58.90625 \nQ 39.453125 66.40625 31.78125 66.40625 \nz\nM 31.78125 74.21875 \nQ 44.046875 74.21875 50.515625 64.515625 \nQ 56.984375 54.828125 56.984375 36.375 \nQ 56.984375 17.96875 50.515625 8.265625 \nQ 44.046875 -1.421875 31.78125 -1.421875 \nQ 19.53125 -1.421875 13.0625 8.265625 \nQ 6.59375 17.96875 6.59375 36.375 \nQ 6.59375 54.828125 13.0625 64.515625 \nQ 19.53125 74.21875 31.78125 74.21875 \nz\n\" id=\"DejaVuSans-48\"/>\n        <path d=\"M 10.6875 12.40625 \nL 21 12.40625 \nL 21 0 \nL 10.6875 0 \nz\n\" id=\"DejaVuSans-46\"/>\n       </defs>\n       <use xlink:href=\"#DejaVuSans-48\"/>\n       <use x=\"63.623047\" xlink:href=\"#DejaVuSans-46\"/>\n       <use x=\"95.410156\" xlink:href=\"#DejaVuSans-48\"/>\n      </g>\n     </g>\n    </g>\n    <g id=\"xtick_2\">\n     <g id=\"line2d_2\">\n      <g>\n       <use style=\"stroke:#000000;stroke-width:0.8;\" x=\"180.277557\" xlink:href=\"#m877a8ed90e\" y=\"471.114375\"/>\n      </g>\n     </g>\n     <g id=\"text_2\">\n      <!-- 0.2 -->\n      <g transform=\"translate(172.325994 485.712812)scale(0.1 -0.1)\">\n       <defs>\n        <path d=\"M 19.1875 8.296875 \nL 53.609375 8.296875 \nL 53.609375 0 \nL 7.328125 0 \nL 7.328125 8.296875 \nQ 12.9375 14.109375 22.625 23.890625 \nQ 32.328125 33.6875 34.8125 36.53125 \nQ 39.546875 41.84375 41.421875 45.53125 \nQ 43.3125 49.21875 43.3125 52.78125 \nQ 43.3125 58.59375 39.234375 62.25 \nQ 35.15625 65.921875 28.609375 65.921875 \nQ 23.96875 65.921875 18.8125 64.3125 \nQ 13.671875 62.703125 7.8125 59.421875 \nL 7.8125 69.390625 \nQ 13.765625 71.78125 18.9375 73 \nQ 24.125 74.21875 28.421875 74.21875 \nQ 39.75 74.21875 46.484375 68.546875 \nQ 53.21875 62.890625 53.21875 53.421875 \nQ 53.21875 48.921875 51.53125 44.890625 \nQ 49.859375 40.875 45.40625 35.40625 \nQ 44.1875 33.984375 37.640625 27.21875 \nQ 31.109375 20.453125 19.1875 8.296875 \nz\n\" id=\"DejaVuSans-50\"/>\n       </defs>\n       <use xlink:href=\"#DejaVuSans-48\"/>\n       <use x=\"63.623047\" xlink:href=\"#DejaVuSans-46\"/>\n       <use x=\"95.410156\" xlink:href=\"#DejaVuSans-50\"/>\n      </g>\n     </g>\n    </g>\n    <g id=\"xtick_3\">\n     <g id=\"line2d_3\">\n      <g>\n       <use style=\"stroke:#000000;stroke-width:0.8;\" x=\"281.732102\" xlink:href=\"#m877a8ed90e\" y=\"471.114375\"/>\n      </g>\n     </g>\n     <g id=\"text_3\">\n      <!-- 0.4 -->\n      <g transform=\"translate(273.78054 485.712812)scale(0.1 -0.1)\">\n       <defs>\n        <path d=\"M 37.796875 64.3125 \nL 12.890625 25.390625 \nL 37.796875 25.390625 \nz\nM 35.203125 72.90625 \nL 47.609375 72.90625 \nL 47.609375 25.390625 \nL 58.015625 25.390625 \nL 58.015625 17.1875 \nL 47.609375 17.1875 \nL 47.609375 0 \nL 37.796875 0 \nL 37.796875 17.1875 \nL 4.890625 17.1875 \nL 4.890625 26.703125 \nz\n\" id=\"DejaVuSans-52\"/>\n       </defs>\n       <use xlink:href=\"#DejaVuSans-48\"/>\n       <use x=\"63.623047\" xlink:href=\"#DejaVuSans-46\"/>\n       <use x=\"95.410156\" xlink:href=\"#DejaVuSans-52\"/>\n      </g>\n     </g>\n    </g>\n    <g id=\"xtick_4\">\n     <g id=\"line2d_4\">\n      <g>\n       <use style=\"stroke:#000000;stroke-width:0.8;\" x=\"383.186648\" xlink:href=\"#m877a8ed90e\" y=\"471.114375\"/>\n      </g>\n     </g>\n     <g id=\"text_4\">\n      <!-- 0.6 -->\n      <g transform=\"translate(375.235085 485.712812)scale(0.1 -0.1)\">\n       <defs>\n        <path d=\"M 33.015625 40.375 \nQ 26.375 40.375 22.484375 35.828125 \nQ 18.609375 31.296875 18.609375 23.390625 \nQ 18.609375 15.53125 22.484375 10.953125 \nQ 26.375 6.390625 33.015625 6.390625 \nQ 39.65625 6.390625 43.53125 10.953125 \nQ 47.40625 15.53125 47.40625 23.390625 \nQ 47.40625 31.296875 43.53125 35.828125 \nQ 39.65625 40.375 33.015625 40.375 \nz\nM 52.59375 71.296875 \nL 52.59375 62.3125 \nQ 48.875 64.0625 45.09375 64.984375 \nQ 41.3125 65.921875 37.59375 65.921875 \nQ 27.828125 65.921875 22.671875 59.328125 \nQ 17.53125 52.734375 16.796875 39.40625 \nQ 19.671875 43.65625 24.015625 45.921875 \nQ 28.375 48.1875 33.59375 48.1875 \nQ 44.578125 48.1875 50.953125 41.515625 \nQ 57.328125 34.859375 57.328125 23.390625 \nQ 57.328125 12.15625 50.6875 5.359375 \nQ 44.046875 -1.421875 33.015625 -1.421875 \nQ 20.359375 -1.421875 13.671875 8.265625 \nQ 6.984375 17.96875 6.984375 36.375 \nQ 6.984375 53.65625 15.1875 63.9375 \nQ 23.390625 74.21875 37.203125 74.21875 \nQ 40.921875 74.21875 44.703125 73.484375 \nQ 48.484375 72.75 52.59375 71.296875 \nz\n\" id=\"DejaVuSans-54\"/>\n       </defs>\n       <use xlink:href=\"#DejaVuSans-48\"/>\n       <use x=\"63.623047\" xlink:href=\"#DejaVuSans-46\"/>\n       <use x=\"95.410156\" xlink:href=\"#DejaVuSans-54\"/>\n      </g>\n     </g>\n    </g>\n    <g id=\"xtick_5\">\n     <g id=\"line2d_5\">\n      <g>\n       <use style=\"stroke:#000000;stroke-width:0.8;\" x=\"484.641193\" xlink:href=\"#m877a8ed90e\" y=\"471.114375\"/>\n      </g>\n     </g>\n     <g id=\"text_5\">\n      <!-- 0.8 -->\n      <g transform=\"translate(476.689631 485.712812)scale(0.1 -0.1)\">\n       <defs>\n        <path d=\"M 31.78125 34.625 \nQ 24.75 34.625 20.71875 30.859375 \nQ 16.703125 27.09375 16.703125 20.515625 \nQ 16.703125 13.921875 20.71875 10.15625 \nQ 24.75 6.390625 31.78125 6.390625 \nQ 38.8125 6.390625 42.859375 10.171875 \nQ 46.921875 13.96875 46.921875 20.515625 \nQ 46.921875 27.09375 42.890625 30.859375 \nQ 38.875 34.625 31.78125 34.625 \nz\nM 21.921875 38.8125 \nQ 15.578125 40.375 12.03125 44.71875 \nQ 8.5 49.078125 8.5 55.328125 \nQ 8.5 64.0625 14.71875 69.140625 \nQ 20.953125 74.21875 31.78125 74.21875 \nQ 42.671875 74.21875 48.875 69.140625 \nQ 55.078125 64.0625 55.078125 55.328125 \nQ 55.078125 49.078125 51.53125 44.71875 \nQ 48 40.375 41.703125 38.8125 \nQ 48.828125 37.15625 52.796875 32.3125 \nQ 56.78125 27.484375 56.78125 20.515625 \nQ 56.78125 9.90625 50.3125 4.234375 \nQ 43.84375 -1.421875 31.78125 -1.421875 \nQ 19.734375 -1.421875 13.25 4.234375 \nQ 6.78125 9.90625 6.78125 20.515625 \nQ 6.78125 27.484375 10.78125 32.3125 \nQ 14.796875 37.15625 21.921875 38.8125 \nz\nM 18.3125 54.390625 \nQ 18.3125 48.734375 21.84375 45.5625 \nQ 25.390625 42.390625 31.78125 42.390625 \nQ 38.140625 42.390625 41.71875 45.5625 \nQ 45.3125 48.734375 45.3125 54.390625 \nQ 45.3125 60.0625 41.71875 63.234375 \nQ 38.140625 66.40625 31.78125 66.40625 \nQ 25.390625 66.40625 21.84375 63.234375 \nQ 18.3125 60.0625 18.3125 54.390625 \nz\n\" id=\"DejaVuSans-56\"/>\n       </defs>\n       <use xlink:href=\"#DejaVuSans-48\"/>\n       <use x=\"63.623047\" xlink:href=\"#DejaVuSans-46\"/>\n       <use x=\"95.410156\" xlink:href=\"#DejaVuSans-56\"/>\n      </g>\n     </g>\n    </g>\n    <g id=\"xtick_6\">\n     <g id=\"line2d_6\">\n      <g>\n       <use style=\"stroke:#000000;stroke-width:0.8;\" x=\"586.095739\" xlink:href=\"#m877a8ed90e\" y=\"471.114375\"/>\n      </g>\n     </g>\n     <g id=\"text_6\">\n      <!-- 1.0 -->\n      <g transform=\"translate(578.144176 485.712812)scale(0.1 -0.1)\">\n       <defs>\n        <path d=\"M 12.40625 8.296875 \nL 28.515625 8.296875 \nL 28.515625 63.921875 \nL 10.984375 60.40625 \nL 10.984375 69.390625 \nL 28.421875 72.90625 \nL 38.28125 72.90625 \nL 38.28125 8.296875 \nL 54.390625 8.296875 \nL 54.390625 0 \nL 12.40625 0 \nz\n\" id=\"DejaVuSans-49\"/>\n       </defs>\n       <use xlink:href=\"#DejaVuSans-49\"/>\n       <use x=\"63.623047\" xlink:href=\"#DejaVuSans-46\"/>\n       <use x=\"95.410156\" xlink:href=\"#DejaVuSans-48\"/>\n      </g>\n     </g>\n    </g>\n    <g id=\"text_7\">\n     <!-- FPR -->\n     <g transform=\"translate(313.729688 506.989375)scale(0.2 -0.2)\">\n      <defs>\n       <path d=\"M 9.8125 72.90625 \nL 51.703125 72.90625 \nL 51.703125 64.59375 \nL 19.671875 64.59375 \nL 19.671875 43.109375 \nL 48.578125 43.109375 \nL 48.578125 34.8125 \nL 19.671875 34.8125 \nL 19.671875 0 \nL 9.8125 0 \nz\n\" id=\"DejaVuSans-70\"/>\n       <path d=\"M 19.671875 64.796875 \nL 19.671875 37.40625 \nL 32.078125 37.40625 \nQ 38.96875 37.40625 42.71875 40.96875 \nQ 46.484375 44.53125 46.484375 51.125 \nQ 46.484375 57.671875 42.71875 61.234375 \nQ 38.96875 64.796875 32.078125 64.796875 \nz\nM 9.8125 72.90625 \nL 32.078125 72.90625 \nQ 44.34375 72.90625 50.609375 67.359375 \nQ 56.890625 61.8125 56.890625 51.125 \nQ 56.890625 40.328125 50.609375 34.8125 \nQ 44.34375 29.296875 32.078125 29.296875 \nL 19.671875 29.296875 \nL 19.671875 0 \nL 9.8125 0 \nz\n\" id=\"DejaVuSans-80\"/>\n       <path d=\"M 44.390625 34.1875 \nQ 47.5625 33.109375 50.5625 29.59375 \nQ 53.5625 26.078125 56.59375 19.921875 \nL 66.609375 0 \nL 56 0 \nL 46.6875 18.703125 \nQ 43.0625 26.03125 39.671875 28.421875 \nQ 36.28125 30.8125 30.421875 30.8125 \nL 19.671875 30.8125 \nL 19.671875 0 \nL 9.8125 0 \nL 9.8125 72.90625 \nL 32.078125 72.90625 \nQ 44.578125 72.90625 50.734375 67.671875 \nQ 56.890625 62.453125 56.890625 51.90625 \nQ 56.890625 45.015625 53.6875 40.46875 \nQ 50.484375 35.9375 44.390625 34.1875 \nz\nM 19.671875 64.796875 \nL 19.671875 38.921875 \nL 32.078125 38.921875 \nQ 39.203125 38.921875 42.84375 42.21875 \nQ 46.484375 45.515625 46.484375 51.90625 \nQ 46.484375 58.296875 42.84375 61.546875 \nQ 39.203125 64.796875 32.078125 64.796875 \nz\n\" id=\"DejaVuSans-82\"/>\n      </defs>\n      <use xlink:href=\"#DejaVuSans-70\"/>\n      <use x=\"57.519531\" xlink:href=\"#DejaVuSans-80\"/>\n      <use x=\"117.822266\" xlink:href=\"#DejaVuSans-82\"/>\n     </g>\n    </g>\n   </g>\n   <g id=\"matplotlib.axis_2\">\n    <g id=\"ytick_1\">\n     <g id=\"line2d_7\">\n      <defs>\n       <path d=\"M 0 0 \nL -3.5 0 \n\" id=\"m3a13b723ab\" style=\"stroke:#000000;stroke-width:0.8;\"/>\n      </defs>\n      <g>\n       <use style=\"stroke:#000000;stroke-width:0.8;\" x=\"53.459375\" xlink:href=\"#m3a13b723ab\" y=\"451.347102\"/>\n      </g>\n     </g>\n     <g id=\"text_8\">\n      <!-- 0.0 -->\n      <g transform=\"translate(30.55625 455.146321)scale(0.1 -0.1)\">\n       <use xlink:href=\"#DejaVuSans-48\"/>\n       <use x=\"63.623047\" xlink:href=\"#DejaVuSans-46\"/>\n       <use x=\"95.410156\" xlink:href=\"#DejaVuSans-48\"/>\n      </g>\n     </g>\n    </g>\n    <g id=\"ytick_2\">\n     <g id=\"line2d_8\">\n      <g>\n       <use style=\"stroke:#000000;stroke-width:0.8;\" x=\"53.459375\" xlink:href=\"#m3a13b723ab\" y=\"372.278011\"/>\n      </g>\n     </g>\n     <g id=\"text_9\">\n      <!-- 0.2 -->\n      <g transform=\"translate(30.55625 376.07723)scale(0.1 -0.1)\">\n       <use xlink:href=\"#DejaVuSans-48\"/>\n       <use x=\"63.623047\" xlink:href=\"#DejaVuSans-46\"/>\n       <use x=\"95.410156\" xlink:href=\"#DejaVuSans-50\"/>\n      </g>\n     </g>\n    </g>\n    <g id=\"ytick_3\">\n     <g id=\"line2d_9\">\n      <g>\n       <use style=\"stroke:#000000;stroke-width:0.8;\" x=\"53.459375\" xlink:href=\"#m3a13b723ab\" y=\"293.20892\"/>\n      </g>\n     </g>\n     <g id=\"text_10\">\n      <!-- 0.4 -->\n      <g transform=\"translate(30.55625 297.008139)scale(0.1 -0.1)\">\n       <use xlink:href=\"#DejaVuSans-48\"/>\n       <use x=\"63.623047\" xlink:href=\"#DejaVuSans-46\"/>\n       <use x=\"95.410156\" xlink:href=\"#DejaVuSans-52\"/>\n      </g>\n     </g>\n    </g>\n    <g id=\"ytick_4\">\n     <g id=\"line2d_10\">\n      <g>\n       <use style=\"stroke:#000000;stroke-width:0.8;\" x=\"53.459375\" xlink:href=\"#m3a13b723ab\" y=\"214.13983\"/>\n      </g>\n     </g>\n     <g id=\"text_11\">\n      <!-- 0.6 -->\n      <g transform=\"translate(30.55625 217.939048)scale(0.1 -0.1)\">\n       <use xlink:href=\"#DejaVuSans-48\"/>\n       <use x=\"63.623047\" xlink:href=\"#DejaVuSans-46\"/>\n       <use x=\"95.410156\" xlink:href=\"#DejaVuSans-54\"/>\n      </g>\n     </g>\n    </g>\n    <g id=\"ytick_5\">\n     <g id=\"line2d_11\">\n      <g>\n       <use style=\"stroke:#000000;stroke-width:0.8;\" x=\"53.459375\" xlink:href=\"#m3a13b723ab\" y=\"135.070739\"/>\n      </g>\n     </g>\n     <g id=\"text_12\">\n      <!-- 0.8 -->\n      <g transform=\"translate(30.55625 138.869957)scale(0.1 -0.1)\">\n       <use xlink:href=\"#DejaVuSans-48\"/>\n       <use x=\"63.623047\" xlink:href=\"#DejaVuSans-46\"/>\n       <use x=\"95.410156\" xlink:href=\"#DejaVuSans-56\"/>\n      </g>\n     </g>\n    </g>\n    <g id=\"ytick_6\">\n     <g id=\"line2d_12\">\n      <g>\n       <use style=\"stroke:#000000;stroke-width:0.8;\" x=\"53.459375\" xlink:href=\"#m3a13b723ab\" y=\"56.001648\"/>\n      </g>\n     </g>\n     <g id=\"text_13\">\n      <!-- 1.0 -->\n      <g transform=\"translate(30.55625 59.800866)scale(0.1 -0.1)\">\n       <use xlink:href=\"#DejaVuSans-49\"/>\n       <use x=\"63.623047\" xlink:href=\"#DejaVuSans-46\"/>\n       <use x=\"95.410156\" xlink:href=\"#DejaVuSans-48\"/>\n      </g>\n     </g>\n    </g>\n    <g id=\"text_14\">\n     <!-- TPR -->\n     <g transform=\"translate(22.396875 272.760312)rotate(-90)scale(0.2 -0.2)\">\n      <defs>\n       <path d=\"M -0.296875 72.90625 \nL 61.375 72.90625 \nL 61.375 64.59375 \nL 35.5 64.59375 \nL 35.5 0 \nL 25.59375 0 \nL 25.59375 64.59375 \nL -0.296875 64.59375 \nz\n\" id=\"DejaVuSans-84\"/>\n      </defs>\n      <use xlink:href=\"#DejaVuSans-84\"/>\n      <use x=\"61.083984\" xlink:href=\"#DejaVuSans-80\"/>\n      <use x=\"121.386719\" xlink:href=\"#DejaVuSans-82\"/>\n     </g>\n    </g>\n   </g>\n   <g id=\"line2d_13\">\n    <path clip-path=\"url(#pbfbe530713)\" d=\"M 78.823011 451.347102 \nL 586.095739 56.001648 \n\" style=\"fill:none;stroke:#1f77b4;stroke-dasharray:5.55,2.4;stroke-dashoffset:0;stroke-width:1.5;\"/>\n   </g>\n   <g id=\"line2d_14\">\n    <path clip-path=\"url(#pbfbe530713)\" d=\"M 78.823011 451.347102 \nL 78.823011 443.110739 \nL 78.823011 286.61983 \nL 84.336845 286.61983 \nL 84.336845 171.310739 \nL 89.850679 171.310739 \nL 89.850679 163.074375 \nL 95.364513 163.074375 \nL 95.364513 72.474375 \nL 111.906015 72.474375 \nL 111.906015 64.238011 \nL 122.933683 64.238011 \nL 122.933683 56.001648 \nL 172.558189 56.001648 \nL 183.585857 56.001648 \nL 189.099691 56.001648 \nL 205.641193 56.001648 \nL 227.696529 56.001648 \nL 244.238031 56.001648 \nL 260.779533 56.001648 \nL 271.807201 56.001648 \nL 293.862537 56.001648 \nL 304.890205 56.001648 \nL 365.542379 56.001648 \nL 382.083881 56.001648 \nL 409.653051 56.001648 \nL 420.680719 56.001648 \nL 431.708387 56.001648 \nL 442.736055 56.001648 \nL 475.819059 56.001648 \nL 497.874395 56.001648 \nL 503.388229 56.001648 \nL 525.443565 56.001648 \nL 553.012735 56.001648 \nL 558.526569 56.001648 \nL 586.095739 56.001648 \n\" style=\"fill:none;stroke:#ff7f0e;stroke-linecap:square;stroke-width:1.5;\"/>\n    <defs>\n     <path d=\"M 0 1.5 \nC 0.397805 1.5 0.77937 1.341951 1.06066 1.06066 \nC 1.341951 0.77937 1.5 0.397805 1.5 0 \nC 1.5 -0.397805 1.341951 -0.77937 1.06066 -1.06066 \nC 0.77937 -1.341951 0.397805 -1.5 0 -1.5 \nC -0.397805 -1.5 -0.77937 -1.341951 -1.06066 -1.06066 \nC -1.341951 -0.77937 -1.5 -0.397805 -1.5 0 \nC -1.5 0.397805 -1.341951 0.77937 -1.06066 1.06066 \nC -0.77937 1.341951 -0.397805 1.5 0 1.5 \nz\n\" id=\"m3f891e171f\" style=\"stroke:#ff7f0e;\"/>\n    </defs>\n    <g clip-path=\"url(#pbfbe530713)\">\n     <use style=\"fill:#ff7f0e;stroke:#ff7f0e;\" x=\"78.823011\" xlink:href=\"#m3f891e171f\" y=\"451.347102\"/>\n     <use style=\"fill:#ff7f0e;stroke:#ff7f0e;\" x=\"78.823011\" xlink:href=\"#m3f891e171f\" y=\"443.110739\"/>\n     <use style=\"fill:#ff7f0e;stroke:#ff7f0e;\" x=\"78.823011\" xlink:href=\"#m3f891e171f\" y=\"286.61983\"/>\n     <use style=\"fill:#ff7f0e;stroke:#ff7f0e;\" x=\"84.336845\" xlink:href=\"#m3f891e171f\" y=\"286.61983\"/>\n     <use style=\"fill:#ff7f0e;stroke:#ff7f0e;\" x=\"84.336845\" xlink:href=\"#m3f891e171f\" y=\"171.310739\"/>\n     <use style=\"fill:#ff7f0e;stroke:#ff7f0e;\" x=\"89.850679\" xlink:href=\"#m3f891e171f\" y=\"171.310739\"/>\n     <use style=\"fill:#ff7f0e;stroke:#ff7f0e;\" x=\"89.850679\" xlink:href=\"#m3f891e171f\" y=\"163.074375\"/>\n     <use style=\"fill:#ff7f0e;stroke:#ff7f0e;\" x=\"95.364513\" xlink:href=\"#m3f891e171f\" y=\"163.074375\"/>\n     <use style=\"fill:#ff7f0e;stroke:#ff7f0e;\" x=\"95.364513\" xlink:href=\"#m3f891e171f\" y=\"72.474375\"/>\n     <use style=\"fill:#ff7f0e;stroke:#ff7f0e;\" x=\"111.906015\" xlink:href=\"#m3f891e171f\" y=\"72.474375\"/>\n     <use style=\"fill:#ff7f0e;stroke:#ff7f0e;\" x=\"111.906015\" xlink:href=\"#m3f891e171f\" y=\"64.238011\"/>\n     <use style=\"fill:#ff7f0e;stroke:#ff7f0e;\" x=\"122.933683\" xlink:href=\"#m3f891e171f\" y=\"64.238011\"/>\n     <use style=\"fill:#ff7f0e;stroke:#ff7f0e;\" x=\"122.933683\" xlink:href=\"#m3f891e171f\" y=\"56.001648\"/>\n     <use style=\"fill:#ff7f0e;stroke:#ff7f0e;\" x=\"172.558189\" xlink:href=\"#m3f891e171f\" y=\"56.001648\"/>\n     <use style=\"fill:#ff7f0e;stroke:#ff7f0e;\" x=\"183.585857\" xlink:href=\"#m3f891e171f\" y=\"56.001648\"/>\n     <use style=\"fill:#ff7f0e;stroke:#ff7f0e;\" x=\"189.099691\" xlink:href=\"#m3f891e171f\" y=\"56.001648\"/>\n     <use style=\"fill:#ff7f0e;stroke:#ff7f0e;\" x=\"205.641193\" xlink:href=\"#m3f891e171f\" y=\"56.001648\"/>\n     <use style=\"fill:#ff7f0e;stroke:#ff7f0e;\" x=\"227.696529\" xlink:href=\"#m3f891e171f\" y=\"56.001648\"/>\n     <use style=\"fill:#ff7f0e;stroke:#ff7f0e;\" x=\"244.238031\" xlink:href=\"#m3f891e171f\" y=\"56.001648\"/>\n     <use style=\"fill:#ff7f0e;stroke:#ff7f0e;\" x=\"260.779533\" xlink:href=\"#m3f891e171f\" y=\"56.001648\"/>\n     <use style=\"fill:#ff7f0e;stroke:#ff7f0e;\" x=\"271.807201\" xlink:href=\"#m3f891e171f\" y=\"56.001648\"/>\n     <use style=\"fill:#ff7f0e;stroke:#ff7f0e;\" x=\"293.862537\" xlink:href=\"#m3f891e171f\" y=\"56.001648\"/>\n     <use style=\"fill:#ff7f0e;stroke:#ff7f0e;\" x=\"304.890205\" xlink:href=\"#m3f891e171f\" y=\"56.001648\"/>\n     <use style=\"fill:#ff7f0e;stroke:#ff7f0e;\" x=\"365.542379\" xlink:href=\"#m3f891e171f\" y=\"56.001648\"/>\n     <use style=\"fill:#ff7f0e;stroke:#ff7f0e;\" x=\"382.083881\" xlink:href=\"#m3f891e171f\" y=\"56.001648\"/>\n     <use style=\"fill:#ff7f0e;stroke:#ff7f0e;\" x=\"409.653051\" xlink:href=\"#m3f891e171f\" y=\"56.001648\"/>\n     <use style=\"fill:#ff7f0e;stroke:#ff7f0e;\" x=\"420.680719\" xlink:href=\"#m3f891e171f\" y=\"56.001648\"/>\n     <use style=\"fill:#ff7f0e;stroke:#ff7f0e;\" x=\"431.708387\" xlink:href=\"#m3f891e171f\" y=\"56.001648\"/>\n     <use style=\"fill:#ff7f0e;stroke:#ff7f0e;\" x=\"442.736055\" xlink:href=\"#m3f891e171f\" y=\"56.001648\"/>\n     <use style=\"fill:#ff7f0e;stroke:#ff7f0e;\" x=\"475.819059\" xlink:href=\"#m3f891e171f\" y=\"56.001648\"/>\n     <use style=\"fill:#ff7f0e;stroke:#ff7f0e;\" x=\"497.874395\" xlink:href=\"#m3f891e171f\" y=\"56.001648\"/>\n     <use style=\"fill:#ff7f0e;stroke:#ff7f0e;\" x=\"503.388229\" xlink:href=\"#m3f891e171f\" y=\"56.001648\"/>\n     <use style=\"fill:#ff7f0e;stroke:#ff7f0e;\" x=\"525.443565\" xlink:href=\"#m3f891e171f\" y=\"56.001648\"/>\n     <use style=\"fill:#ff7f0e;stroke:#ff7f0e;\" x=\"553.012735\" xlink:href=\"#m3f891e171f\" y=\"56.001648\"/>\n     <use style=\"fill:#ff7f0e;stroke:#ff7f0e;\" x=\"558.526569\" xlink:href=\"#m3f891e171f\" y=\"56.001648\"/>\n     <use style=\"fill:#ff7f0e;stroke:#ff7f0e;\" x=\"586.095739\" xlink:href=\"#m3f891e171f\" y=\"56.001648\"/>\n    </g>\n   </g>\n   <g id=\"patch_3\">\n    <path d=\"M 53.459375 471.114375 \nL 53.459375 36.234375 \n\" style=\"fill:none;stroke:#000000;stroke-linecap:square;stroke-linejoin:miter;stroke-width:0.8;\"/>\n   </g>\n   <g id=\"patch_4\">\n    <path d=\"M 611.459375 471.114375 \nL 611.459375 36.234375 \n\" style=\"fill:none;stroke:#000000;stroke-linecap:square;stroke-linejoin:miter;stroke-width:0.8;\"/>\n   </g>\n   <g id=\"patch_5\">\n    <path d=\"M 53.459375 471.114375 \nL 611.459375 471.114375 \n\" style=\"fill:none;stroke:#000000;stroke-linecap:square;stroke-linejoin:miter;stroke-width:0.8;\"/>\n   </g>\n   <g id=\"patch_6\">\n    <path d=\"M 53.459375 36.234375 \nL 611.459375 36.234375 \n\" style=\"fill:none;stroke:#000000;stroke-linecap:square;stroke-linejoin:miter;stroke-width:0.8;\"/>\n   </g>\n   <g id=\"text_15\">\n    <!-- Curva ROC -->\n    <g transform=\"translate(250.770313 29.995313)scale(0.3 -0.3)\">\n     <defs>\n      <path d=\"M 64.40625 67.28125 \nL 64.40625 56.890625 \nQ 59.421875 61.53125 53.78125 63.8125 \nQ 48.140625 66.109375 41.796875 66.109375 \nQ 29.296875 66.109375 22.65625 58.46875 \nQ 16.015625 50.828125 16.015625 36.375 \nQ 16.015625 21.96875 22.65625 14.328125 \nQ 29.296875 6.6875 41.796875 6.6875 \nQ 48.140625 6.6875 53.78125 8.984375 \nQ 59.421875 11.28125 64.40625 15.921875 \nL 64.40625 5.609375 \nQ 59.234375 2.09375 53.4375 0.328125 \nQ 47.65625 -1.421875 41.21875 -1.421875 \nQ 24.65625 -1.421875 15.125 8.703125 \nQ 5.609375 18.84375 5.609375 36.375 \nQ 5.609375 53.953125 15.125 64.078125 \nQ 24.65625 74.21875 41.21875 74.21875 \nQ 47.75 74.21875 53.53125 72.484375 \nQ 59.328125 70.75 64.40625 67.28125 \nz\n\" id=\"DejaVuSans-67\"/>\n      <path d=\"M 8.5 21.578125 \nL 8.5 54.6875 \nL 17.484375 54.6875 \nL 17.484375 21.921875 \nQ 17.484375 14.15625 20.5 10.265625 \nQ 23.53125 6.390625 29.59375 6.390625 \nQ 36.859375 6.390625 41.078125 11.03125 \nQ 45.3125 15.671875 45.3125 23.6875 \nL 45.3125 54.6875 \nL 54.296875 54.6875 \nL 54.296875 0 \nL 45.3125 0 \nL 45.3125 8.40625 \nQ 42.046875 3.421875 37.71875 1 \nQ 33.40625 -1.421875 27.6875 -1.421875 \nQ 18.265625 -1.421875 13.375 4.4375 \nQ 8.5 10.296875 8.5 21.578125 \nz\nM 31.109375 56 \nz\n\" id=\"DejaVuSans-117\"/>\n      <path d=\"M 41.109375 46.296875 \nQ 39.59375 47.171875 37.8125 47.578125 \nQ 36.03125 48 33.890625 48 \nQ 26.265625 48 22.1875 43.046875 \nQ 18.109375 38.09375 18.109375 28.8125 \nL 18.109375 0 \nL 9.078125 0 \nL 9.078125 54.6875 \nL 18.109375 54.6875 \nL 18.109375 46.1875 \nQ 20.953125 51.171875 25.484375 53.578125 \nQ 30.03125 56 36.53125 56 \nQ 37.453125 56 38.578125 55.875 \nQ 39.703125 55.765625 41.0625 55.515625 \nz\n\" id=\"DejaVuSans-114\"/>\n      <path d=\"M 2.984375 54.6875 \nL 12.5 54.6875 \nL 29.59375 8.796875 \nL 46.6875 54.6875 \nL 56.203125 54.6875 \nL 35.6875 0 \nL 23.484375 0 \nz\n\" id=\"DejaVuSans-118\"/>\n      <path d=\"M 34.28125 27.484375 \nQ 23.390625 27.484375 19.1875 25 \nQ 14.984375 22.515625 14.984375 16.5 \nQ 14.984375 11.71875 18.140625 8.90625 \nQ 21.296875 6.109375 26.703125 6.109375 \nQ 34.1875 6.109375 38.703125 11.40625 \nQ 43.21875 16.703125 43.21875 25.484375 \nL 43.21875 27.484375 \nz\nM 52.203125 31.203125 \nL 52.203125 0 \nL 43.21875 0 \nL 43.21875 8.296875 \nQ 40.140625 3.328125 35.546875 0.953125 \nQ 30.953125 -1.421875 24.3125 -1.421875 \nQ 15.921875 -1.421875 10.953125 3.296875 \nQ 6 8.015625 6 15.921875 \nQ 6 25.140625 12.171875 29.828125 \nQ 18.359375 34.515625 30.609375 34.515625 \nL 43.21875 34.515625 \nL 43.21875 35.40625 \nQ 43.21875 41.609375 39.140625 45 \nQ 35.0625 48.390625 27.6875 48.390625 \nQ 23 48.390625 18.546875 47.265625 \nQ 14.109375 46.140625 10.015625 43.890625 \nL 10.015625 52.203125 \nQ 14.9375 54.109375 19.578125 55.046875 \nQ 24.21875 56 28.609375 56 \nQ 40.484375 56 46.34375 49.84375 \nQ 52.203125 43.703125 52.203125 31.203125 \nz\n\" id=\"DejaVuSans-97\"/>\n      <path id=\"DejaVuSans-32\"/>\n      <path d=\"M 39.40625 66.21875 \nQ 28.65625 66.21875 22.328125 58.203125 \nQ 16.015625 50.203125 16.015625 36.375 \nQ 16.015625 22.609375 22.328125 14.59375 \nQ 28.65625 6.59375 39.40625 6.59375 \nQ 50.140625 6.59375 56.421875 14.59375 \nQ 62.703125 22.609375 62.703125 36.375 \nQ 62.703125 50.203125 56.421875 58.203125 \nQ 50.140625 66.21875 39.40625 66.21875 \nz\nM 39.40625 74.21875 \nQ 54.734375 74.21875 63.90625 63.9375 \nQ 73.09375 53.65625 73.09375 36.375 \nQ 73.09375 19.140625 63.90625 8.859375 \nQ 54.734375 -1.421875 39.40625 -1.421875 \nQ 24.03125 -1.421875 14.8125 8.828125 \nQ 5.609375 19.09375 5.609375 36.375 \nQ 5.609375 53.65625 14.8125 63.9375 \nQ 24.03125 74.21875 39.40625 74.21875 \nz\n\" id=\"DejaVuSans-79\"/>\n     </defs>\n     <use xlink:href=\"#DejaVuSans-67\"/>\n     <use x=\"69.824219\" xlink:href=\"#DejaVuSans-117\"/>\n     <use x=\"133.203125\" xlink:href=\"#DejaVuSans-114\"/>\n     <use x=\"174.316406\" xlink:href=\"#DejaVuSans-118\"/>\n     <use x=\"233.496094\" xlink:href=\"#DejaVuSans-97\"/>\n     <use x=\"294.775391\" xlink:href=\"#DejaVuSans-32\"/>\n     <use x=\"326.5625\" xlink:href=\"#DejaVuSans-82\"/>\n     <use x=\"396.044922\" xlink:href=\"#DejaVuSans-79\"/>\n     <use x=\"474.755859\" xlink:href=\"#DejaVuSans-67\"/>\n    </g>\n   </g>\n  </g>\n </g>\n <defs>\n  <clipPath id=\"pbfbe530713\">\n   <rect height=\"434.88\" width=\"558\" x=\"53.459375\" y=\"36.234375\"/>\n  </clipPath>\n </defs>\n</svg>\n",
      "image/png": "[encoded data removed]"
     },
     "metadata": {
      "needs_background": "light"
     }
    },
    {
     "output_type": "stream",
     "name": "stdout",
     "text": [
      "AUC: 0.986\n"
     ]
    }
   ],
   "source": [
    "log_model = LogisticRegression()\n",
    "\n",
    "log_model.fit(X_train, y_train)\n",
    "\n",
    "probs = log_model.predict_proba(X_test)[:,1]\n",
    "\n",
    "# Curva roc\n",
    "fpr, tpr, thresholds = roc_curve(y_test, probs)\n",
    "\n",
    "plt.figure(figsize = (10, 8))\n",
    "plt.plot([0,1], [0,1], linestyle='--')\n",
    "plt.plot(fpr, tpr, marker='.')\n",
    "plt.xlabel('FPR', size = 20)\n",
    "plt.ylabel('TPR', size = 20)\n",
    "plt.title('Curva ROC', size = 30)\n",
    "plt.show()\n",
    "\n",
    "auc = roc_auc_score(y_test, probs)\n",
    "print('AUC: %.3f' % auc)"
   ]
  },
  {
   "source": [
    "ROC, AUC Precision y Recall\n",
    "\n",
    "<img src=\"https://upload.wikimedia.org/wikipedia/commons/2/26/Precisionrecall.svg\" alt=\"precision and recall\" width=400 height=500 >\n",
    "\n",
    "F1 score = 2 · \n",
    "Precision · Recall\n",
    "/\n",
    "Precision + Recall\n",
    "\n",
    "Accuracy (ACC) = \n",
    "Σ True positive + Σ True negative\n",
    "/\n",
    "Σ Total population\n",
    "\n",
    "source: https://en.wikipedia.org/wiki/Precision_and_recall"
   ],
   "cell_type": "markdown",
   "metadata": {}
  },
  {
   "source": [
    "<img src=\"https://miro.medium.com/max/1400/1*ESe25wSUx7vE-v3w2-v77A.png\" alt=\"balanced dataset\" width=\"500\" height=\"400\">\n",
    "\n",
    "<img src=\"https://miro.medium.com/max/1400/1*Ij5JIzexbW8JiJSPuDa01g.png\" alt=\"Imbalanced dataset\" width=500 height=400>\n",
    "\n",
    "\n",
    "\n",
    "<img src=\"https://miro.medium.com/max/2000/1*0itx-rI4iTMB42t4ya64Ow.png\" alt=\"Imbalanced dataset\" width=800 height=400>\n",
    "source: https://towardsdatascience.com/guide-to-classification-on-imbalanced-datasets-d6653aa5fa23"
   ],
   "cell_type": "markdown",
   "metadata": {}
  },
  {
   "cell_type": "code",
   "execution_count": 30,
   "metadata": {},
   "outputs": [
    {
     "output_type": "execute_result",
     "data": {
      "text/plain": [
       "            counts     freqs\n",
       "categories                  \n",
       "0              457  0.654728\n",
       "1              241  0.345272"
      ],
      "text/html": "<div>\n<style scoped>\n    .dataframe tbody tr th:only-of-type {\n        vertical-align: middle;\n    }\n\n    .dataframe tbody tr th {\n        vertical-align: top;\n    }\n\n    .dataframe thead th {\n        text-align: right;\n    }\n</style>\n<table border=\"1\" class=\"dataframe\">\n  <thead>\n    <tr style=\"text-align: right;\">\n      <th></th>\n      <th>counts</th>\n      <th>freqs</th>\n    </tr>\n    <tr>\n      <th>categories</th>\n      <th></th>\n      <th></th>\n    </tr>\n  </thead>\n  <tbody>\n    <tr>\n      <th>0</th>\n      <td>457</td>\n      <td>0.654728</td>\n    </tr>\n    <tr>\n      <th>1</th>\n      <td>241</td>\n      <td>0.345272</td>\n    </tr>\n  </tbody>\n</table>\n</div>"
     },
     "metadata": {},
     "execution_count": 30
    }
   ],
   "source": [
    "pd.Categorical(breast_c['Class']).describe()"
   ]
  },
  {
   "source": [
    "<h3> Up Sampeling de la categoria dominante </h3>"
   ],
   "cell_type": "markdown",
   "metadata": {}
  },
  {
   "cell_type": "code",
   "execution_count": 31,
   "metadata": {},
   "outputs": [],
   "source": [
    "from sklearn.utils import resample"
   ]
  },
  {
   "cell_type": "code",
   "execution_count": 34,
   "metadata": {},
   "outputs": [
    {
     "output_type": "execute_result",
     "data": {
      "text/plain": [
       "1    365\n",
       "0    365\n",
       "Name: Class, dtype: int64"
      ]
     },
     "metadata": {},
     "execution_count": 34
    }
   ],
   "source": [
    "with_class_df = pd.concat([X_train, y_train], axis=1)\n",
    "\n",
    "mailg = with_class_df[ with_class_df.Class == 1]\n",
    "benig = with_class_df[ with_class_df.Class == 0]\n",
    "\n",
    "malig_upsampled = resample( mailg, replace=True, n_samples= len(benig) ,random_state=123)\n",
    "\n",
    "upsampled_train = pd.concat([malig_upsampled, benig], axis=0)\n",
    "\n",
    "upsampled_train.Class.value_counts()"
   ]
  },
  {
   "cell_type": "code",
   "execution_count": 36,
   "metadata": {},
   "outputs": [
    {
     "output_type": "stream",
     "name": "stdout",
     "text": [
      "Upsampled accuracy score: 0.929\nUpsampled precision score: 0.896\nUpsampled recall score: 0.896\n"
     ]
    }
   ],
   "source": [
    "X_train_up = upsampled_train.drop(columns='Class')\n",
    "y_train_up = upsampled_train.Class\n",
    "\n",
    "upsampled_mod = LogisticRegression(solver='liblinear').fit(X_train_up, y_train_up)\n",
    "\n",
    "pred_up = upsampled_mod.predict(X_test)\n",
    "\n",
    "acc_score_up = accuracy_score(y_test, y_pred= pred_up)\n",
    "preci_up = precision_score(y_test, pred_up)\n",
    "recall_up = recall_score(y_test, pred_up)\n",
    "\n",
    "print('Upsampled accuracy score: {:.3f}'.format(acc_score_up))\n",
    "print('Upsampled precision score: {:.3f}'.format(preci_up))\n",
    "print('Upsampled recall score: {:.3f}'.format(recall_up))"
   ]
  },
  {
   "source": [
    "<h3> Down sampeling de la categoria domniante</h3>"
   ],
   "cell_type": "markdown",
   "metadata": {}
  },
  {
   "cell_type": "code",
   "execution_count": 38,
   "metadata": {},
   "outputs": [
    {
     "output_type": "execute_result",
     "data": {
      "text/plain": [
       "1    193\n",
       "0    193\n",
       "Name: Class, dtype: int64"
      ]
     },
     "metadata": {},
     "execution_count": 38
    }
   ],
   "source": [
    "with_class_df = pd.concat([X_train, y_train], axis=1)\n",
    "\n",
    "malig = with_class_df[ with_class_df.Class == 1]\n",
    "benig = with_class_df[ with_class_df.Class == 0]\n",
    "\n",
    "benig_downsampled = resample( benig, replace=True, n_samples= len(mailg) ,random_state=123)\n",
    "\n",
    "downsampled_train = pd.concat([malig, benig_downsampled], axis=0)\n",
    "\n",
    "downsampled_train.Class.value_counts()"
   ]
  },
  {
   "cell_type": "code",
   "execution_count": 40,
   "metadata": {},
   "outputs": [
    {
     "output_type": "stream",
     "name": "stdout",
     "text": [
      "Downsampled accuracy score: 0.929\nDownsampled precision score: 0.913\nDownsmpled recall score: 0.875\n"
     ]
    }
   ],
   "source": [
    "X_train_do = downsampled_train.drop(columns='Class')\n",
    "y_train_do = downsampled_train.Class\n",
    "\n",
    "downsampled_mod = LogisticRegression(solver='liblinear').fit(X_train_do, y_train_do)\n",
    "\n",
    "pred_do = downsampled_mod.predict(X_test)\n",
    "\n",
    "acc_score_do = accuracy_score(y_test, y_pred= pred_do)\n",
    "preci_do = precision_score(y_test, pred_do)\n",
    "recall_do = recall_score(y_test, pred_do)\n",
    "\n",
    "print('Downsampled accuracy score: {:.3f}'.format(acc_score_do))\n",
    "print('Downsampled precision score: {:.3f}'.format(preci_do))\n",
    "print('Downsmpled recall score: {:.3f}'.format(recall_do))"
   ]
  },
  {
   "source": [
    "<h3> Generar datos de la clase minoritaria ajustando un modelo SMOTE (Synthetic Minority Oversampling Technique) </h3>"
   ],
   "cell_type": "markdown",
   "metadata": {}
  },
  {
   "cell_type": "code",
   "execution_count": 43,
   "metadata": {},
   "outputs": [],
   "source": [
    "from imblearn.over_sampling import SMOTE"
   ]
  },
  {
   "cell_type": "code",
   "execution_count": 44,
   "metadata": {},
   "outputs": [
    {
     "output_type": "execute_result",
     "data": {
      "text/plain": [
       "1    365\n",
       "0    365\n",
       "Name: Class, dtype: int64"
      ]
     },
     "metadata": {},
     "execution_count": 44
    }
   ],
   "source": [
    "#sm = SMOTE(sampling_strategy= 1.0, random_state=123)\n",
    "sm = SMOTE(sampling_strategy='not majority', random_state=123)\n",
    "\n",
    "X_train_sm, y_train_sm = sm.fit_sample(X_train, y_train)\n",
    "\n",
    "y_train_sm.value_counts()"
   ]
  },
  {
   "cell_type": "code",
   "execution_count": 46,
   "metadata": {},
   "outputs": [
    {
     "output_type": "stream",
     "name": "stdout",
     "text": [
      "Generated class balanced SMOTE accuracy score: 0.929\nGenerated class balanced SMOTE precision score: 0.913\nGenerated class balanced SMOTE recall score: 0.875\n"
     ]
    }
   ],
   "source": [
    "smote_mod = LogisticRegression(solver='liblinear').fit(X_train_sm, y_train_sm)\n",
    "\n",
    "pred_sm = downsampled_mod.predict(X_test)\n",
    "\n",
    "acc_score_sm = accuracy_score(y_test, y_pred= pred_sm)\n",
    "preci_sm = precision_score(y_test, pred_sm)\n",
    "recall_sm = recall_score(y_test, pred_sm)\n",
    "\n",
    "print('Generated class balanced SMOTE accuracy score: {:.3f}'.format(acc_score_sm))\n",
    "print('Generated class balanced SMOTE precision score: {:.3f}'.format(preci_sm))\n",
    "print('Generated class balanced SMOTE recall score: {:.3f}'.format(recall_sm))"
   ]
  },
  {
   "cell_type": "code",
   "execution_count": null,
   "metadata": {},
   "outputs": [],
   "source": []
  }
 ]
}