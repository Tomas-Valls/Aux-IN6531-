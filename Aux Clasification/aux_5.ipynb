{
 "metadata": {
  "language_info": {
   "codemirror_mode": {
    "name": "ipython",
    "version": 3
   },
   "file_extension": ".py",
   "mimetype": "text/x-python",
   "name": "python",
   "nbconvert_exporter": "python",
   "pygments_lexer": "ipython3",
   "version": "3.8.5-final"
  },
  "orig_nbformat": 2,
  "kernelspec": {
   "name": "python3",
   "display_name": "Python 3.8.5 64-bit ('academic': conda)",
   "metadata": {
    "interpreter": {
     "hash": "6e3bfc71632b2e8e14e255a35d81850e245cc3519e0bc5afc02be28c06af3a2b"
    }
   }
  }
 },
 "nbformat": 4,
 "nbformat_minor": 2,
 "cells": [
  {
   "cell_type": "code",
   "execution_count": 3,
   "metadata": {},
   "outputs": [],
   "source": [
    "import pandas as pd\n",
    "\n",
    "import numpy as np\n",
    "import matplotlib.pyplot as plt\n",
    "\n",
    "#División datos\n",
    "from sklearn.model_selection import train_test_split\n",
    "#Cross-Validation\n",
    "from sklearn.model_selection import cross_validate\n",
    "\n",
    "#Metricas\n",
    "import sklearn\n",
    "from sklearn.metrics import confusion_matrix, f1_score, classification_report, accuracy_score, recall_score, precision_score, confusion_matrix\n",
    "\n",
    "#ROC y AUC\n",
    "from sklearn.metrics import roc_curve, roc_auc_score\n",
    "\n",
    "\n",
    "#Modelos\n",
    "from sklearn.linear_model import LogisticRegression\n",
    "from sklearn.tree import DecisionTreeClassifier\n",
    "from sklearn.neighbors import KNeighborsClassifier\n",
    "from sklearn.svm import SVC\n",
    "from sklearn.ensemble import RandomForestClassifier\n"
   ]
  },
  {
   "source": [
    "UCI ML Repo: Breast Cancer Wisconsin (Diagnostic) Data Set\n",
    "\n",
    "http://archive.ics.uci.edu/ml/datasets/Breast+Cancer+Wisconsin+%28Diagnostic%29"
   ],
   "cell_type": "markdown",
   "metadata": {}
  },
  {
   "cell_type": "code",
   "execution_count": 4,
   "metadata": {},
   "outputs": [],
   "source": [
    "breast_c = pd.read_csv('/Users/sebaguerraty-macbook/Github/Aux-IN6531-/Aux Clasification/data/breast-cancer-wisconsin.data')"
   ]
  },
  {
   "cell_type": "code",
   "execution_count": 5,
   "metadata": {},
   "outputs": [],
   "source": [
    "breast_c.columns  = ['ID number', 'Clump_thickness', 'Uniformity_cell_size', 'Uniformity_cell_shape', 'Marginal_adhesion', 'Single_e_cell_size', 'Bare_nuclei', 'Bland_chromatin', 'Normal_nucleoli', 'Mitoses', 'Class']"
   ]
  },
  {
   "cell_type": "code",
   "execution_count": 6,
   "metadata": {},
   "outputs": [
    {
     "output_type": "execute_result",
     "data": {
      "text/plain": [
       "   ID number  Clump_thickness  Uniformity_cell_size  Uniformity_cell_shape  \\\n",
       "0    1002945                5                     4                      4   \n",
       "1    1015425                3                     1                      1   \n",
       "2    1016277                6                     8                      8   \n",
       "3    1017023                4                     1                      1   \n",
       "4    1017122                8                    10                     10   \n",
       "\n",
       "   Marginal_adhesion  Single_e_cell_size Bare_nuclei  Bland_chromatin  \\\n",
       "0                  5                   7          10                3   \n",
       "1                  1                   2           2                3   \n",
       "2                  1                   3           4                3   \n",
       "3                  3                   2           1                3   \n",
       "4                  8                   7          10                9   \n",
       "\n",
       "   Normal_nucleoli  Mitoses  Class  \n",
       "0                2        1      2  \n",
       "1                1        1      2  \n",
       "2                7        1      2  \n",
       "3                1        1      2  \n",
       "4                7        1      4  "
      ],
      "text/html": "<div>\n<style scoped>\n    .dataframe tbody tr th:only-of-type {\n        vertical-align: middle;\n    }\n\n    .dataframe tbody tr th {\n        vertical-align: top;\n    }\n\n    .dataframe thead th {\n        text-align: right;\n    }\n</style>\n<table border=\"1\" class=\"dataframe\">\n  <thead>\n    <tr style=\"text-align: right;\">\n      <th></th>\n      <th>ID number</th>\n      <th>Clump_thickness</th>\n      <th>Uniformity_cell_size</th>\n      <th>Uniformity_cell_shape</th>\n      <th>Marginal_adhesion</th>\n      <th>Single_e_cell_size</th>\n      <th>Bare_nuclei</th>\n      <th>Bland_chromatin</th>\n      <th>Normal_nucleoli</th>\n      <th>Mitoses</th>\n      <th>Class</th>\n    </tr>\n  </thead>\n  <tbody>\n    <tr>\n      <th>0</th>\n      <td>1002945</td>\n      <td>5</td>\n      <td>4</td>\n      <td>4</td>\n      <td>5</td>\n      <td>7</td>\n      <td>10</td>\n      <td>3</td>\n      <td>2</td>\n      <td>1</td>\n      <td>2</td>\n    </tr>\n    <tr>\n      <th>1</th>\n      <td>1015425</td>\n      <td>3</td>\n      <td>1</td>\n      <td>1</td>\n      <td>1</td>\n      <td>2</td>\n      <td>2</td>\n      <td>3</td>\n      <td>1</td>\n      <td>1</td>\n      <td>2</td>\n    </tr>\n    <tr>\n      <th>2</th>\n      <td>1016277</td>\n      <td>6</td>\n      <td>8</td>\n      <td>8</td>\n      <td>1</td>\n      <td>3</td>\n      <td>4</td>\n      <td>3</td>\n      <td>7</td>\n      <td>1</td>\n      <td>2</td>\n    </tr>\n    <tr>\n      <th>3</th>\n      <td>1017023</td>\n      <td>4</td>\n      <td>1</td>\n      <td>1</td>\n      <td>3</td>\n      <td>2</td>\n      <td>1</td>\n      <td>3</td>\n      <td>1</td>\n      <td>1</td>\n      <td>2</td>\n    </tr>\n    <tr>\n      <th>4</th>\n      <td>1017122</td>\n      <td>8</td>\n      <td>10</td>\n      <td>10</td>\n      <td>8</td>\n      <td>7</td>\n      <td>10</td>\n      <td>9</td>\n      <td>7</td>\n      <td>1</td>\n      <td>4</td>\n    </tr>\n  </tbody>\n</table>\n</div>"
     },
     "metadata": {},
     "execution_count": 6
    }
   ],
   "source": [
    "breast_c.head()"
   ]
  },
  {
   "cell_type": "code",
   "execution_count": 7,
   "metadata": {},
   "outputs": [],
   "source": [
    "## EDA + transformaciones de variable y Dummies (no applica en este caso)"
   ]
  },
  {
   "cell_type": "code",
   "execution_count": 8,
   "metadata": {},
   "outputs": [
    {
     "output_type": "execute_result",
     "data": {
      "text/plain": [
       "(16, 11)"
      ]
     },
     "metadata": {},
     "execution_count": 8
    }
   ],
   "source": [
    "breast_c[ breast_c['Bare_nuclei'] =='?'].shape"
   ]
  },
  {
   "cell_type": "code",
   "execution_count": 9,
   "metadata": {},
   "outputs": [
    {
     "output_type": "execute_result",
     "data": {
      "text/plain": [
       "ID number                 int64\n",
       "Clump_thickness           int64\n",
       "Uniformity_cell_size      int64\n",
       "Uniformity_cell_shape     int64\n",
       "Marginal_adhesion         int64\n",
       "Single_e_cell_size        int64\n",
       "Bare_nuclei              object\n",
       "Bland_chromatin           int64\n",
       "Normal_nucleoli           int64\n",
       "Mitoses                   int64\n",
       "Class                     int64\n",
       "dtype: object"
      ]
     },
     "metadata": {},
     "execution_count": 9
    }
   ],
   "source": [
    "breast_c.dtypes"
   ]
  },
  {
   "cell_type": "code",
   "execution_count": 10,
   "metadata": {},
   "outputs": [],
   "source": [
    "breast_c['Bare_nuclei'] = pd.to_numeric(breast_c['Bare_nuclei'], errors='coerce')"
   ]
  },
  {
   "cell_type": "code",
   "execution_count": 11,
   "metadata": {},
   "outputs": [],
   "source": [
    "breast_c['Bare_nuclei'].fillna(method='ffill', inplace=True)"
   ]
  },
  {
   "source": [
    "7. Attribute Information: (class attribute has been moved to last column)\n",
    "\n",
    "   #  Attribute                     Domain\n",
    "   -- -----------------------------------------\n",
    "   1. Sample code number            id number\n",
    "   2. Clump Thickness               1 - 10\n",
    "   3. Uniformity of Cell Size       1 - 10\n",
    "   4. Uniformity of Cell Shape      1 - 10\n",
    "   5. Marginal Adhesion             1 - 10\n",
    "   6. Single Epithelial Cell Size   1 - 10\n",
    "   7. Bare Nuclei                   1 - 10\n",
    "   8. Bland Chromatin               1 - 10\n",
    "   9. Normal Nucleoli               1 - 10\n",
    "  10. Mitoses                       1 - 10\n",
    "  11. Class:                        (2 for benign, 4 for malignant)"
   ],
   "cell_type": "markdown",
   "metadata": {}
  },
  {
   "cell_type": "code",
   "execution_count": 12,
   "metadata": {},
   "outputs": [],
   "source": [
    "breast_c['Class'].replace(4, 1, inplace=True)\n",
    "breast_c['Class'].replace(2, 0, inplace=True)"
   ]
  },
  {
   "cell_type": "code",
   "execution_count": 13,
   "metadata": {},
   "outputs": [
    {
     "output_type": "execute_result",
     "data": {
      "text/plain": [
       "   ID number  Clump_thickness  Uniformity_cell_size  Uniformity_cell_shape  \\\n",
       "0    1002945                5                     4                      4   \n",
       "1    1015425                3                     1                      1   \n",
       "2    1016277                6                     8                      8   \n",
       "3    1017023                4                     1                      1   \n",
       "4    1017122                8                    10                     10   \n",
       "\n",
       "   Marginal_adhesion  Single_e_cell_size  Bare_nuclei  Bland_chromatin  \\\n",
       "0                  5                   7         10.0                3   \n",
       "1                  1                   2          2.0                3   \n",
       "2                  1                   3          4.0                3   \n",
       "3                  3                   2          1.0                3   \n",
       "4                  8                   7         10.0                9   \n",
       "\n",
       "   Normal_nucleoli  Mitoses  Class  \n",
       "0                2        1      0  \n",
       "1                1        1      0  \n",
       "2                7        1      0  \n",
       "3                1        1      0  \n",
       "4                7        1      1  "
      ],
      "text/html": "<div>\n<style scoped>\n    .dataframe tbody tr th:only-of-type {\n        vertical-align: middle;\n    }\n\n    .dataframe tbody tr th {\n        vertical-align: top;\n    }\n\n    .dataframe thead th {\n        text-align: right;\n    }\n</style>\n<table border=\"1\" class=\"dataframe\">\n  <thead>\n    <tr style=\"text-align: right;\">\n      <th></th>\n      <th>ID number</th>\n      <th>Clump_thickness</th>\n      <th>Uniformity_cell_size</th>\n      <th>Uniformity_cell_shape</th>\n      <th>Marginal_adhesion</th>\n      <th>Single_e_cell_size</th>\n      <th>Bare_nuclei</th>\n      <th>Bland_chromatin</th>\n      <th>Normal_nucleoli</th>\n      <th>Mitoses</th>\n      <th>Class</th>\n    </tr>\n  </thead>\n  <tbody>\n    <tr>\n      <th>0</th>\n      <td>1002945</td>\n      <td>5</td>\n      <td>4</td>\n      <td>4</td>\n      <td>5</td>\n      <td>7</td>\n      <td>10.0</td>\n      <td>3</td>\n      <td>2</td>\n      <td>1</td>\n      <td>0</td>\n    </tr>\n    <tr>\n      <th>1</th>\n      <td>1015425</td>\n      <td>3</td>\n      <td>1</td>\n      <td>1</td>\n      <td>1</td>\n      <td>2</td>\n      <td>2.0</td>\n      <td>3</td>\n      <td>1</td>\n      <td>1</td>\n      <td>0</td>\n    </tr>\n    <tr>\n      <th>2</th>\n      <td>1016277</td>\n      <td>6</td>\n      <td>8</td>\n      <td>8</td>\n      <td>1</td>\n      <td>3</td>\n      <td>4.0</td>\n      <td>3</td>\n      <td>7</td>\n      <td>1</td>\n      <td>0</td>\n    </tr>\n    <tr>\n      <th>3</th>\n      <td>1017023</td>\n      <td>4</td>\n      <td>1</td>\n      <td>1</td>\n      <td>3</td>\n      <td>2</td>\n      <td>1.0</td>\n      <td>3</td>\n      <td>1</td>\n      <td>1</td>\n      <td>0</td>\n    </tr>\n    <tr>\n      <th>4</th>\n      <td>1017122</td>\n      <td>8</td>\n      <td>10</td>\n      <td>10</td>\n      <td>8</td>\n      <td>7</td>\n      <td>10.0</td>\n      <td>9</td>\n      <td>7</td>\n      <td>1</td>\n      <td>1</td>\n    </tr>\n  </tbody>\n</table>\n</div>"
     },
     "metadata": {},
     "execution_count": 13
    }
   ],
   "source": [
    "breast_c.head()"
   ]
  },
  {
   "cell_type": "code",
   "execution_count": 14,
   "metadata": {},
   "outputs": [],
   "source": [
    "X_train, X_test, y_train, y_test = train_test_split(breast_c.drop(columns=['ID number', 'Class']), breast_c['Class'], test_size=0.2, random_state=123, stratify=breast_c.Class)"
   ]
  },
  {
   "cell_type": "code",
   "execution_count": 15,
   "metadata": {},
   "outputs": [],
   "source": [
    "models = []\n",
    "models.append(('LOGIT  ', LogisticRegression()))\n",
    "models.append(('KNN    ', KNeighborsClassifier()))\n",
    "models.append(('D_TREE ', DecisionTreeClassifier()))\n",
    "models.append(('RandomForest ', RandomForestClassifier()))\n",
    "models.append(('SVM    ', SVC()))"
   ]
  },
  {
   "cell_type": "code",
   "execution_count": 19,
   "metadata": {},
   "outputs": [
    {
     "output_type": "stream",
     "name": "stdout",
     "text": [
      "Modelo: LOGIT  \ntrain accuracy: 0.97, train precision: 0.96, train recall: 0.96\naccuracy: 0.94, precision: 0.93, recall: 0.88\n\nModelo: KNN    \ntrain accuracy: 0.98, train precision: 0.97, train recall: 0.98\naccuracy: 0.94, precision: 0.93, recall: 0.90\n\nModelo: D_TREE \ntrain accuracy: 1.00, train precision: 1.00, train recall: 1.00\naccuracy: 0.91, precision: 0.93, recall: 0.79\n\nModelo: RandomForest \ntrain accuracy: 1.00, train precision: 1.00, train recall: 1.00\naccuracy: 0.94, precision: 0.93, recall: 0.88\n\nModelo: SVM    \ntrain accuracy: 0.98, train precision: 0.96, train recall: 0.97\naccuracy: 0.95, precision: 0.94, recall: 0.92\n\n"
     ]
    }
   ],
   "source": [
    "\n",
    "for name, model in models:\n",
    "    #Ajuste del modelo\n",
    "    model.fit(X_train, y_train)\n",
    "    \n",
    "    \n",
    "    #Predecir\n",
    "    y_pred = model.predict(X_test)\n",
    "    \n",
    "    #Metricas de testeo\n",
    "    accuracy = accuracy_score(y_test, y_pred)\n",
    "    precision = precision_score(y_test, y_pred)\n",
    "    recall  = recall_score(y_test, y_pred)\n",
    "    \n",
    "    #metricas de conjunto de entrenamiento\n",
    "    train_pred = model.predict(X_train)\n",
    "\n",
    "    train_acc = accuracy_score(y_train, train_pred)\n",
    "    train_precision = precision_score(y_train, train_pred)\n",
    "    train_recall = recall_score(y_train, train_pred)\n",
    "    #Print de datos\n",
    "    \n",
    "    print(\"Modelo: {}\".format(name))\n",
    "    print('train accuracy: {:.2f}, train precision: {:.2f}, train recall: {:.2f}'.format(train_acc, train_precision, train_recall))\n",
    "    print(\"accuracy: {:.2f}, precision: {:.2f}, recall: {:.2f}\".format(accuracy, precision, recall))\n",
    "    print(\"\")\n",
    "    "
   ]
  },
  {
   "cell_type": "code",
   "execution_count": 25,
   "metadata": {},
   "outputs": [
    {
     "output_type": "stream",
     "name": "stdout",
     "text": [
      "Help on function predict_proba in module sklearn.linear_model._logistic:\n\npredict_proba(self, X)\n    Probability estimates.\n    \n    The returned estimates for all classes are ordered by the\n    label of classes.\n    \n    For a multi_class problem, if multi_class is set to be \"multinomial\"\n    the softmax function is used to find the predicted probability of\n    each class.\n    Else use a one-vs-rest approach, i.e calculate the probability\n    of each class assuming it to be positive using the logistic function.\n    and normalize these values across all the classes.\n    \n    Parameters\n    ----------\n    X : array-like of shape (n_samples, n_features)\n        Vector to be scored, where `n_samples` is the number of samples and\n        `n_features` is the number of features.\n    \n    Returns\n    -------\n    T : array-like of shape (n_samples, n_classes)\n        Returns the probability of the sample for each class in the model,\n        where classes are ordered as they are in ``self.classes_``.\n\n"
     ]
    }
   ],
   "source": [
    "help(LogisticRegression.predict_proba)"
   ]
  },
  {
   "source": [
    "ROC, AUC Precision y Recall\n",
    "\n",
    "<img src=\"https://upload.wikimedia.org/wikipedia/commons/2/26/Precisionrecall.svg\" alt=\"precision and recall\" width=400 height=500 >\n",
    "\n",
    "F1 score = 2 · \n",
    "Precision · Recall\n",
    "/\n",
    "Precision + Recall\n",
    "\n",
    "Accuracy (ACC) = \n",
    "Σ True positive + Σ True negative\n",
    "/\n",
    "Σ Total population"
   ],
   "cell_type": "markdown",
   "metadata": {}
  },
  {
   "source": [
    "<img src=\"https://miro.medium.com/max/1400/1*ESe25wSUx7vE-v3w2-v77A.png\" alt=\"balanced dataset\" width=\"500\" height=\"400\">\n",
    "\n",
    "<img src=\"https://miro.medium.com/max/1400/1*Ij5JIzexbW8JiJSPuDa01g.png\" alt=\"Imbalanced dataset\" width=500 height=400>"
   ],
   "cell_type": "markdown",
   "metadata": {}
  },
  {
   "cell_type": "code",
   "execution_count": null,
   "metadata": {},
   "outputs": [],
   "source": []
  }
 ]
}